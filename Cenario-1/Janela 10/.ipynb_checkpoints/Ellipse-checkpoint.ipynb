{
 "cells": [
  {
   "cell_type": "code",
   "execution_count": 1,
   "metadata": {},
   "outputs": [
    {
     "name": "stdout",
     "output_type": "stream",
     "text": [
      "160414\n",
      "160414\n",
      "0.9788235440796937\n",
      "1.0\n"
     ]
    }
   ],
   "source": [
    "\n",
    "from sklearn.metrics import precision_score\n",
    "from sklearn.metrics import recall_score\n",
    "\n",
    "Rotulos_geral = []\n",
    "Detectados_geral = []\n",
    "\n",
    "for i in range(1,55):\n",
    "\t\n",
    "\tif (i != 5 and i != 28):\n",
    "\t\t\n",
    "\t\tfile1 = open(\"/home/miqueas/Cenario-1/Castalia-Trace50Elipse.txt\",\"r\") \n",
    "\n",
    "\t\tleitura = file1.readlines()\n",
    "\n",
    "\t\tanomalias = []\n",
    "\n",
    "\n",
    "\t\tfor linha in leitura:\n",
    "\t\t\t\n",
    "\t\t\tseparado = linha.split(\" \")\n",
    "\t\t\t\n",
    "\t\t\tx = len(separado)\n",
    "\t\t\t\n",
    "\t\t   \n",
    "\t\t\tif (x > 4):\n",
    "\t\t\t\t\n",
    "\t\t\t\t\n",
    "\t\t\t\tif (separado[x-1] == str(i)+\"\\n\" and separado[x-4] == 'Anomalia:'):\n",
    "\t\t\t\t\t\n",
    "\t\t\t\t\tleitura = separado[x-3].split(\",\")\n",
    "\t\t\t\t\n",
    "\t\t\t\t\tanomalias.append(int(leitura[0]))\n",
    "\t\t\t\t\t\n",
    "\t\t\t\t\t\n",
    "\t\t\t\t\t\n",
    "\n",
    "\t\tfile1.close()\n",
    "\n",
    "\t\t\n",
    "\t\tfile2 = open(\"/home/miqueas/Cenario-1/No_\"+ str(i) +\".txt\",\"r\") \n",
    "\n",
    "\t\tleitura2 = file2.readlines()\n",
    "\n",
    "\t\trotulos = []\n",
    "\n",
    "\n",
    "\t\tfor linha2 in leitura2:\n",
    "\t\t\t\n",
    "\t\t\tseparado2 = linha2.split(\",\")\n",
    "\t\t\t\n",
    "\t\t\tx = len(separado2)\n",
    "\t\t\t\n",
    "\t\t\tlabel = separado2[x-1].split(\"\\n\")\n",
    "\t\t\trotulos.append(int(label[0]))\n",
    "\n",
    "\t\tdetectado = [1]*len(rotulos)\n",
    "\n",
    "\n",
    "\t\tfor j in anomalias:\n",
    "\t\t\tdetectado[j-1] = -1\n",
    "\t\t\t\n",
    "\t\tfor dado in rotulos:\n",
    "\t\t\tRotulos_geral.append(dado)\n",
    "\t\t\n",
    "\t\tfor outlier in detectado:\n",
    "\t\t\tDetectados_geral.append(outlier)\n",
    "\t\t\t\n",
    "\n",
    "print(len(Rotulos_geral))\n",
    "print(len(Detectados_geral))\n",
    "\n",
    "print(precision_score(Rotulos_geral,Detectados_geral))\n",
    "print(recall_score(Rotulos_geral,Detectados_geral))\n",
    "\t\t\t\n",
    "\t\t\n",
    "\t\t\n",
    "\n",
    "\n",
    "\n",
    "\n"
   ]
  },
  {
   "cell_type": "code",
   "execution_count": 9,
   "metadata": {},
   "outputs": [
    {
     "data": {
      "image/png": "[encoded data removed]",
      "text/plain": [
       "<Figure size 432x288 with 1 Axes>"
      ]
     },
     "metadata": {
      "needs_background": "light"
     },
     "output_type": "display_data"
    }
   ],
   "source": [
    "import matplotlib.pyplot as plt\n",
    "import numpy as np\n",
    "import pandas as pd\n",
    "\n",
    "Precisao = [0.9788235440796937,0.9953809393358293]\n",
    "Recall = [1.0, 0.8330626620047511]\n",
    "\n",
    "\n",
    "\n",
    "\n",
    "\n",
    "\n",
    "n_groups = 2\n",
    "means_frank = Precisao\n",
    "means_guido = Recall\n",
    "\n",
    "# create plot\n",
    "fig, ax = plt.subplots()\n",
    "index = np.arange(n_groups)\n",
    "bar_width = 0.25\n",
    "opacity = 0.8\n",
    "\n",
    "rects1 = plt.bar(index, means_frank, bar_width,\n",
    "alpha=opacity,\n",
    "color='b',\n",
    "label='Precisao')\n",
    "\n",
    "rects2 = plt.bar(index + bar_width, means_guido, bar_width,\n",
    "alpha=opacity,\n",
    "color='g',\n",
    "label='Guido')\n",
    "\n",
    "plt.xlabel('Técnica')\n",
    "plt.ylabel('Resultado')\n",
    "\n",
    "plt.xticks(index + bar_width, ('EE', 'SVM'))\n",
    "plt.ylim(0.5,1.0)\n",
    "plt.title(\"Janela 100\")\n",
    "plt.tight_layout()\n",
    "plt.show()"
   ]
  },
  {
   "cell_type": "code",
   "execution_count": 13,
   "metadata": {},
   "outputs": [
    {
     "data": {
      "image/png": "[encoded data removed]",
      "text/plain": [
       "<Figure size 432x288 with 1 Axes>"
      ]
     },
     "metadata": {
      "needs_background": "light"
     },
     "output_type": "display_data"
    }
   ],
   "source": [
    "import matplotlib.pyplot as plt\n",
    "import numpy as np\n",
    "import pandas as pd\n",
    "\n",
    "\n",
    "\n",
    "Precisao = [0.9788235440796937,0.9936619026789619]\n",
    "Recall = [1.0, 0.70891050013692781]\n",
    "\n",
    "\n",
    "\n",
    "\n",
    "\n",
    "\n",
    "\n",
    "\n",
    "\n",
    "\n",
    "\n",
    "n_groups = 2\n",
    "means_frank = Precisao\n",
    "means_guido = Recall\n",
    "\n",
    "# create plot\n",
    "fig, ax = plt.subplots()\n",
    "index = np.arange(n_groups)\n",
    "bar_width = 0.25\n",
    "opacity = 0.8\n",
    "\n",
    "rects1 = plt.bar(index, means_frank, bar_width,\n",
    "alpha=opacity,\n",
    "color='b',\n",
    "label='Precisao')\n",
    "\n",
    "rects2 = plt.bar(index + bar_width, means_guido, bar_width,\n",
    "alpha=opacity,\n",
    "color='g',\n",
    "label='Guido')\n",
    "\n",
    "plt.xlabel('Técnica')\n",
    "plt.ylabel('Resultado')\n",
    "\n",
    "plt.xticks(index + bar_width, ('EE', 'SVM'))\n",
    "plt.ylim(0.5,1.0)\n",
    "plt.title(\"Janela 50\")\n",
    "plt.tight_layout()\n",
    "plt.show()"
   ]
  },
  {
   "cell_type": "code",
   "execution_count": null,
   "metadata": {},
   "outputs": [],
   "source": []
  }
 ],
 "metadata": {
  "kernelspec": {
   "display_name": "Python 3",
   "language": "python",
   "name": "python3"
  },
  "language_info": {
   "codemirror_mode": {
    "name": "ipython",
    "version": 3
   },
   "file_extension": ".py",
   "mimetype": "text/x-python",
   "name": "python",
   "nbconvert_exporter": "python",
   "pygments_lexer": "ipython3",
   "version": "3.7.4"
  }
 },
 "nbformat": 4,
 "nbformat_minor": 2
}
